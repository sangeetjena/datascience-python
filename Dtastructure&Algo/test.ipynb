{
 "cells": [
  {
   "cell_type": "code",
   "execution_count": null,
   "metadata": {},
   "outputs": [],
   "source": [
    "\n",
    "print(\"hi\")\n",
    "\n",
    "lst = [7, 7, 8, 8, 9, 1, 1, 4, 2, 2,1,3,5]\n",
    "a=lst[0]\n",
    "b=lst[1]\n",
    "dup=0\n",
    "print(a)\n",
    "print(b)\n",
    "for i in range(2,len(lst)):\n",
    "    if(a!=dup and a!=b and a !=lst[i]):\n",
    "        print(a)\n",
    "    else:\n",
    "        dup=a\n",
    "    a=b\n",
    "    b=lst[i]\n",
    "if a!=b:\n",
    "    print(a,b)"
   ]
  }
 ],
 "metadata": {
  "language": "python"
 },
 "nbformat": 4,
 "nbformat_minor": 2
}
